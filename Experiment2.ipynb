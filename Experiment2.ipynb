{
 "cells": [
  {
   "cell_type": "code",
   "execution_count": 47,
   "metadata": {},
   "outputs": [],
   "source": [
    "import numpy as np\n",
    "import cv2\n",
    "from matplotlib import pyplot as plt"
   ]
  },
  {
   "cell_type": "code",
   "execution_count": 48,
   "metadata": {},
   "outputs": [],
   "source": [
    "class ClacSelfSimilarities(object):\n",
    "    def __init__(self, img, region_size, patch_size, bin_size):\n",
    "        self.img = img\n",
    "        self.region_size = region_size\n",
    "        self.patch_size = patch_size\n",
    "        self.bin_size = bin_size\n",
    "        self.theta, self.rho = self.cart2polar()\n",
    "        self.bin = self.get_bin()\n",
    "        self.alpha = 1/(85 ^ 2)\n",
    "\n",
    "    def cart2polar(self):\n",
    "        x, y = np.meshgrid(\n",
    "            np.arange(self.region_size[1]), np.arange(self.region_size[0]))\n",
    "        center_r = np.around(self.region_size/2).astype(int)\n",
    "        theta = np.arctan2(x-center_r[1], y-center_r[0])\n",
    "        rho = np.hypot(x-center_r[1], y-center_r[0])\n",
    "        theta = theta*180/np.pi+180\n",
    "        rho = np.log(rho)\n",
    "        return theta, rho\n",
    "\n",
    "    def get_bin(self):\n",
    "        max_rho = np.max(self.rho)\n",
    "        bin = {}\n",
    "        m, n = np.arange(self.bin_size[0]), np.arange(self.bin_size[1])\n",
    "        theta_low = m*24\n",
    "        theta_up = (m+1)*24\n",
    "        rho_low = max_rho*n/3\n",
    "        rho_up = max_rho*(n+1)/3\n",
    "        for i in range(self.bin_size[0]):\n",
    "            for j in range(self.bin_size[1]):\n",
    "                points = np.where((self.theta >= theta_low[i]) & (self.theta <= theta_up[i]) & (\n",
    "                    self.rho >= rho_low[j]) & (self.rho <= rho_up[j]))\n",
    "                bin[i, j] = points\n",
    "        return bin\n",
    "\n",
    "    def cal_ssd(self, patch, region, center_p):\n",
    "        region_size = region.shape\n",
    "        ssd = np.zeros((region_size[0], region_size[1]))\n",
    "        for row in range(1+center_p[0], region_size[0]-center_p[0]):\n",
    "            for col in range(1+center_p[1], region_size[1]-center_p[1]):\n",
    "                ssd[row, col] = np.sum(\n",
    "                    (patch-region[row-center_p[0]:row+center_p[0], col-center_p[1]:col+center_p[1], :])**2)\n",
    "                ssd[row, col] = np.exp(-self.alpha*ssd[row, col])\n",
    "        return ssd\n",
    "\n",
    "    def get_self_sim_vec(self, region):\n",
    "        self_similarities = np.zeros(self.bin_size[0]*self.bin_size[1])\n",
    "        for i in range(self.bin_size[0]):\n",
    "            for j in range(self.bin_size[1]):\n",
    "                if len(region[self.bin[i, j]]) > 0:\n",
    "                    self_similarities[i*self.bin_size[1] +\n",
    "                                      j] = np.max(region[self.bin[i, j]])\n",
    "                else:\n",
    "                    self_similarities[i*self.bin_size[1]+j] = 0\n",
    "        return self_similarities\n",
    "\n",
    "    def cal_self_similarities(self):\n",
    "        lab_image = cv2.cvtColor(self.img, cv2.COLOR_BGR2LAB)\n",
    "        img_size = lab_image.shape\n",
    "        vec_size = self.bin_size[0]*self.bin_size[1]\n",
    "        self_similarities = np.zeros((img_size[0], img_size[1], vec_size))\n",
    "        center_r = np.floor(self.region_size/2).astype(int)\n",
    "        center_p = np.floor(self.patch_size/2).astype(int)\n",
    "\n",
    "        for row in range(center_r[0]+1, img_size[0]-center_r[0]):\n",
    "            for col in range(center_r[1]+1, img_size[1]-center_r[1]):\n",
    "                patch = lab_image[row-center_p[0]:row +\n",
    "                                  center_p[0], col-center_p[1]:col+center_p[1], :]\n",
    "                region = lab_image[row-center_r[0]:row +\n",
    "                                   center_r[0]+1, col-center_r[1]:col+center_r[1]+1, :]\n",
    "                ssd_region = self.cal_ssd(patch, region, center_p)\n",
    "                vec = self.get_self_sim_vec(ssd_region)\n",
    "                self_similarities[row, col, :] = (\n",
    "                    vec-np.min(vec))/(np.max(vec)-np.min(vec))\n",
    "        return self_similarities"
   ]
  },
  {
   "cell_type": "code",
   "execution_count": 49,
   "metadata": {},
   "outputs": [
    {
     "name": "stderr",
     "output_type": "stream",
     "text": [
      "/tmp/ipykernel_359/2515413711.py:18: RuntimeWarning: divide by zero encountered in log\n",
      "  rho = np.log(rho)\n"
     ]
    }
   ],
   "source": [
    "img = cv2.imread('images/1.jpg')\n",
    "region_size = np.array([45, 37])\n",
    "patch_size = np.array([5, 5])\n",
    "bin_size = np.array([15, 3])\n",
    "img = cv2.resize(img, (0, 0), fx=1/3, fy=1/3)\n",
    "sim = ClacSelfSimilarities(img, region_size, patch_size, bin_size)\n",
    "\n",
    "theta, rho = sim.theta, sim.rho\n",
    "sim1 = sim.cal_self_similarities()\n",
    "sim1"
   ]
  },
  {
   "cell_type": "code",
   "execution_count": 41,
   "metadata": {},
   "outputs": [
    {
     "data": {
      "text/plain": [
       "(array([13, 13, 13, 14, 14, 14, 14, 15, 15, 15, 15, 16, 16, 16, 17, 17, 17,\n",
       "        18, 18, 19]),\n",
       " array([18, 19, 20, 18, 19, 20, 21, 18, 19, 20, 21, 18, 19, 20, 18, 19, 20,\n",
       "        18, 19, 19]))"
      ]
     },
     "execution_count": 41,
     "metadata": {},
     "output_type": "execute_result"
    }
   ],
   "source": [
    "bin1[14, 1]"
   ]
  }
 ],
 "metadata": {
  "kernelspec": {
   "display_name": "img",
   "language": "python",
   "name": "python3"
  },
  "language_info": {
   "codemirror_mode": {
    "name": "ipython",
    "version": 3
   },
   "file_extension": ".py",
   "mimetype": "text/x-python",
   "name": "python",
   "nbconvert_exporter": "python",
   "pygments_lexer": "ipython3",
   "version": "3.9.18"
  }
 },
 "nbformat": 4,
 "nbformat_minor": 2
}
