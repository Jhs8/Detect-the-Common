{
 "cells": [
  {
   "cell_type": "markdown",
   "metadata": {},
   "source": [
    "# 实验二：自相似性描述子"
   ]
  },
  {
   "cell_type": "markdown",
   "metadata": {},
   "source": [
    "## 实验环境\n",
    "python/opencv/numpy/matplotlib"
   ]
  },
  {
   "cell_type": "markdown",
   "metadata": {},
   "source": [
    "## 实验步骤"
   ]
  },
  {
   "cell_type": "markdown",
   "metadata": {},
   "source": [
    "### 导入所需库"
   ]
  },
  {
   "cell_type": "code",
   "execution_count": 1,
   "metadata": {},
   "outputs": [],
   "source": [
    "import numpy as np\n",
    "import cv2\n",
    "from matplotlib import pyplot as plt\n",
    "from math import ceil"
   ]
  },
  {
   "cell_type": "markdown",
   "metadata": {},
   "source": [
    "### 定义自相似特征描述子类\n",
    "各函数的作用如下：\n",
    "* __ init __:初始化类参数，定义region/patch/bin size\n",
    "* cart2polar:直角系转换极坐标系\n",
    "* get_bin:极坐标系划分bin，bin size为15*3\n",
    "* cal_ssd:计算patch和region的相似性矩阵\n",
    "* get_self_sim_vec:取每个bin中相似性矩阵的最大值，计算自相似性描述子\n",
    "* draw_result:画出目标区域"
   ]
  },
  {
   "cell_type": "code",
   "execution_count": 2,
   "metadata": {},
   "outputs": [],
   "source": [
    "class ClacSelfSimilarities(object):\n",
    "    def __init__(self, region_size, patch_size, bin_size):\n",
    "        self.region_size = region_size\n",
    "        self.patch_size = patch_size\n",
    "        self.bin_size = bin_size\n",
    "        self.theta, self.rho = self.cart2polar()\n",
    "        self.bin = self.get_bin()\n",
    "        self.alpha = 1/(85*85)\n",
    "\n",
    "    def cart2polar(self):\n",
    "        x, y = np.meshgrid(\n",
    "            np.arange(self.region_size[1]), np.arange(self.region_size[0]))\n",
    "        center_r = self.region_size/2\n",
    "        theta = np.arctan2(x-center_r[1], y-center_r[0])\n",
    "        rho = np.hypot(x-center_r[1], y-center_r[0])\n",
    "        theta = theta*180/np.pi+180\n",
    "        rho = np.log(rho)\n",
    "        return theta, rho\n",
    "\n",
    "    def get_bin(self):\n",
    "        max_rho = np.max(self.rho)\n",
    "        bin = {}\n",
    "        m, n = np.arange(self.bin_size[0]), np.arange(self.bin_size[1])\n",
    "        theta_low = m*24\n",
    "        theta_up = (m+1)*24\n",
    "        rho_low = max_rho*n/3\n",
    "        rho_up = max_rho*(n+1)/3\n",
    "        for i in range(self.bin_size[0]):\n",
    "            for j in range(self.bin_size[1]):\n",
    "                points = np.where((self.theta >= theta_low[i]) & (self.theta <= theta_up[i]) & (\n",
    "                    self.rho >= rho_low[j]) & (self.rho <= rho_up[j]))\n",
    "                bin[i, j] = points\n",
    "        return bin\n",
    "\n",
    "    def cal_ssd(self, patch, region, center_p):\n",
    "        region_size = region.shape\n",
    "        ssd = np.zeros((region_size[0], region_size[1]))\n",
    "        for row in range(center_p[0], region_size[0]-center_p[0]):\n",
    "            for col in range(center_p[1], region_size[1]-center_p[1]):\n",
    "                temp = region[row-center_p[0]:row + center_p[0] +\n",
    "                              1, col-center_p[1]:col+center_p[1]+1, :]-patch\n",
    "                temp2 = np.sum(temp**2)\n",
    "                ssd[row, col] = np.exp(-self.alpha*temp2)\n",
    "        return ssd\n",
    "\n",
    "    def get_self_sim_vec(self, region):\n",
    "        self_similarities = np.zeros(self.bin_size[0]*self.bin_size[1])\n",
    "        for i in range(self.bin_size[0]):\n",
    "            for j in range(self.bin_size[1]):\n",
    "                if len(region[self.bin[i, j]]) > 0:\n",
    "                    self_similarities[i*self.bin_size[1] +\n",
    "                                      j] = np.max(region[self.bin[i, j]])\n",
    "                else:\n",
    "                    self_similarities[i*self.bin_size[1]+j] = 0\n",
    "        return self_similarities\n",
    "\n",
    "    def cal_self_similarities(self, img):\n",
    "        lab_image = cv2.cvtColor(img[:, :, ::-1], cv2.COLOR_RGB2Lab)\n",
    "        img_size = lab_image.shape\n",
    "        vec_size = self.bin_size[0]*self.bin_size[1]\n",
    "        self_similarities = np.zeros((img_size[0], img_size[1], vec_size))\n",
    "        center_r = np.floor(self.region_size/2).astype(int)\n",
    "        center_p = np.floor(self.patch_size/2).astype(int)\n",
    "\n",
    "        for row in range(center_r[0], img_size[0]-center_r[0]):\n",
    "            for col in range(center_r[1], img_size[1]-center_r[1]):\n",
    "                patch = lab_image[row-center_p[0]:row +\n",
    "                                  center_p[0]+1, col-center_p[1]:col+center_p[1]+1, :]\n",
    "                region = lab_image[row-center_r[0]:row +\n",
    "                                   center_r[0]+1, col-center_r[1]:col+center_r[1]+1, :]\n",
    "                ssd_region = self.cal_ssd(patch, region, center_p)\n",
    "                vec = self.get_self_sim_vec(ssd_region)\n",
    "                self_similarities[row, col, :] = (\n",
    "                    vec-np.min(vec))/(np.max(vec)-np.min(vec))\n",
    "        return self_similarities\n",
    "\n",
    "\n",
    "def draw_result(src, sig_score, region_size, scale):\n",
    "    ma = np.max(sig_score)\n",
    "    mi = np.min(sig_score)\n",
    "\n",
    "    norm_score = (sig_score-mi)/(ma-mi)\n",
    "    norm_score = norm_score*255\n",
    "    norm_score = cv2.resize(norm_score, (0, 0), fx=scale, fy=scale)\n",
    "    plt.imshow(norm_score.astype(np.uint8))\n",
    "    plt.show()\n",
    "\n",
    "    x, y = np.where(sig_score == ma)\n",
    "    rect_img = np.zeros(sig_score.shape)\n",
    "\n",
    "    rect_img[(x-np.floor(region_size[0]/2).astype(int))[0]:(x+np.floor(region_size[0]/2).astype(int))[0],\n",
    "             (y-np.floor(region_size[1]/2).astype(int))[0]:(y+np.floor(region_size[1]/2).astype(int))[0]] = 128\n",
    "    rect_img = cv2.resize(rect_img, (0, 0), fx=scale, fy=scale)\n",
    "\n",
    "    rect_size = src.shape\n",
    "    src[:, :, 0] = src[:, :, 0] + \\\n",
    "        rect_img[:rect_size[0], :rect_size[1]].astype(np.uint8)\n",
    "\n",
    "    # plt.imshow(src[:, :, ::-1])\n",
    "    # plt.show()\n",
    "    return src"
   ]
  },
  {
   "cell_type": "markdown",
   "metadata": {},
   "source": [
    "### 定义所需参数，读入图像，计算各图像的自相似性描述子"
   ]
  },
  {
   "cell_type": "code",
   "execution_count": 3,
   "metadata": {},
   "outputs": [
    {
     "ename": "KeyboardInterrupt",
     "evalue": "",
     "output_type": "error",
     "traceback": [
      "\u001b[0;31m---------------------------------------------------------------------------\u001b[0m",
      "\u001b[0;31mKeyboardInterrupt\u001b[0m                         Traceback (most recent call last)",
      "\u001b[1;32m/root/codes/Ex2/Experiment2.ipynb Cell 9\u001b[0m line \u001b[0;36m1\n\u001b[1;32m      <a href='vscode-notebook-cell://wsl%2Bubuntu-22.04/root/codes/Ex2/Experiment2.ipynb#X11sdnNjb2RlLXJlbW90ZQ%3D%3D?line=8'>9</a>\u001b[0m img \u001b[39m=\u001b[39m cv2\u001b[39m.\u001b[39mimread(\u001b[39m'\u001b[39m\u001b[39mimages/\u001b[39m\u001b[39m{}\u001b[39;00m\u001b[39m.jpg\u001b[39m\u001b[39m'\u001b[39m\u001b[39m.\u001b[39mformat(i\u001b[39m+\u001b[39m\u001b[39m1\u001b[39m), cv2\u001b[39m.\u001b[39mIMREAD_COLOR)\n\u001b[1;32m     <a href='vscode-notebook-cell://wsl%2Bubuntu-22.04/root/codes/Ex2/Experiment2.ipynb#X11sdnNjb2RlLXJlbW90ZQ%3D%3D?line=9'>10</a>\u001b[0m img \u001b[39m=\u001b[39m cv2\u001b[39m.\u001b[39mresize(img, (ceil(img\u001b[39m.\u001b[39mshape[\u001b[39m1\u001b[39m]\u001b[39m/\u001b[39m\u001b[39m3\u001b[39m), ceil(img\u001b[39m.\u001b[39mshape[\u001b[39m0\u001b[39m]\u001b[39m/\u001b[39m\u001b[39m3\u001b[39m)))\n\u001b[0;32m---> <a href='vscode-notebook-cell://wsl%2Bubuntu-22.04/root/codes/Ex2/Experiment2.ipynb#X11sdnNjb2RlLXJlbW90ZQ%3D%3D?line=10'>11</a>\u001b[0m self_similarities[i] \u001b[39m=\u001b[39m sim\u001b[39m.\u001b[39;49mcal_self_similarities(img)\n",
      "\u001b[1;32m/root/codes/Ex2/Experiment2.ipynb Cell 9\u001b[0m line \u001b[0;36m7\n\u001b[1;32m     <a href='vscode-notebook-cell://wsl%2Bubuntu-22.04/root/codes/Ex2/Experiment2.ipynb#X11sdnNjb2RlLXJlbW90ZQ%3D%3D?line=66'>67</a>\u001b[0m patch \u001b[39m=\u001b[39m lab_image[row\u001b[39m-\u001b[39mcenter_p[\u001b[39m0\u001b[39m]:row \u001b[39m+\u001b[39m\n\u001b[1;32m     <a href='vscode-notebook-cell://wsl%2Bubuntu-22.04/root/codes/Ex2/Experiment2.ipynb#X11sdnNjb2RlLXJlbW90ZQ%3D%3D?line=67'>68</a>\u001b[0m                   center_p[\u001b[39m0\u001b[39m]\u001b[39m+\u001b[39m\u001b[39m1\u001b[39m, col\u001b[39m-\u001b[39mcenter_p[\u001b[39m1\u001b[39m]:col\u001b[39m+\u001b[39mcenter_p[\u001b[39m1\u001b[39m]\u001b[39m+\u001b[39m\u001b[39m1\u001b[39m, :]\n\u001b[1;32m     <a href='vscode-notebook-cell://wsl%2Bubuntu-22.04/root/codes/Ex2/Experiment2.ipynb#X11sdnNjb2RlLXJlbW90ZQ%3D%3D?line=68'>69</a>\u001b[0m region \u001b[39m=\u001b[39m lab_image[row\u001b[39m-\u001b[39mcenter_r[\u001b[39m0\u001b[39m]:row \u001b[39m+\u001b[39m\n\u001b[1;32m     <a href='vscode-notebook-cell://wsl%2Bubuntu-22.04/root/codes/Ex2/Experiment2.ipynb#X11sdnNjb2RlLXJlbW90ZQ%3D%3D?line=69'>70</a>\u001b[0m                    center_r[\u001b[39m0\u001b[39m]\u001b[39m+\u001b[39m\u001b[39m1\u001b[39m, col\u001b[39m-\u001b[39mcenter_r[\u001b[39m1\u001b[39m]:col\u001b[39m+\u001b[39mcenter_r[\u001b[39m1\u001b[39m]\u001b[39m+\u001b[39m\u001b[39m1\u001b[39m, :]\n\u001b[0;32m---> <a href='vscode-notebook-cell://wsl%2Bubuntu-22.04/root/codes/Ex2/Experiment2.ipynb#X11sdnNjb2RlLXJlbW90ZQ%3D%3D?line=70'>71</a>\u001b[0m ssd_region \u001b[39m=\u001b[39m \u001b[39mself\u001b[39;49m\u001b[39m.\u001b[39;49mcal_ssd(patch, region, center_p)\n\u001b[1;32m     <a href='vscode-notebook-cell://wsl%2Bubuntu-22.04/root/codes/Ex2/Experiment2.ipynb#X11sdnNjb2RlLXJlbW90ZQ%3D%3D?line=71'>72</a>\u001b[0m vec \u001b[39m=\u001b[39m \u001b[39mself\u001b[39m\u001b[39m.\u001b[39mget_self_sim_vec(ssd_region)\n\u001b[1;32m     <a href='vscode-notebook-cell://wsl%2Bubuntu-22.04/root/codes/Ex2/Experiment2.ipynb#X11sdnNjb2RlLXJlbW90ZQ%3D%3D?line=72'>73</a>\u001b[0m self_similarities[row, col, :] \u001b[39m=\u001b[39m (\n\u001b[1;32m     <a href='vscode-notebook-cell://wsl%2Bubuntu-22.04/root/codes/Ex2/Experiment2.ipynb#X11sdnNjb2RlLXJlbW90ZQ%3D%3D?line=73'>74</a>\u001b[0m     vec\u001b[39m-\u001b[39mnp\u001b[39m.\u001b[39mmin(vec))\u001b[39m/\u001b[39m(np\u001b[39m.\u001b[39mmax(vec)\u001b[39m-\u001b[39mnp\u001b[39m.\u001b[39mmin(vec))\n",
      "\u001b[1;32m/root/codes/Ex2/Experiment2.ipynb Cell 9\u001b[0m line \u001b[0;36m4\n\u001b[1;32m     <a href='vscode-notebook-cell://wsl%2Bubuntu-22.04/root/codes/Ex2/Experiment2.ipynb#X11sdnNjb2RlLXJlbW90ZQ%3D%3D?line=38'>39</a>\u001b[0m     \u001b[39mfor\u001b[39;00m col \u001b[39min\u001b[39;00m \u001b[39mrange\u001b[39m(center_p[\u001b[39m1\u001b[39m], region_size[\u001b[39m1\u001b[39m]\u001b[39m-\u001b[39mcenter_p[\u001b[39m1\u001b[39m]):\n\u001b[1;32m     <a href='vscode-notebook-cell://wsl%2Bubuntu-22.04/root/codes/Ex2/Experiment2.ipynb#X11sdnNjb2RlLXJlbW90ZQ%3D%3D?line=39'>40</a>\u001b[0m         temp \u001b[39m=\u001b[39m region[row\u001b[39m-\u001b[39mcenter_p[\u001b[39m0\u001b[39m]:row \u001b[39m+\u001b[39m center_p[\u001b[39m0\u001b[39m] \u001b[39m+\u001b[39m\n\u001b[1;32m     <a href='vscode-notebook-cell://wsl%2Bubuntu-22.04/root/codes/Ex2/Experiment2.ipynb#X11sdnNjb2RlLXJlbW90ZQ%3D%3D?line=40'>41</a>\u001b[0m                       \u001b[39m1\u001b[39m, col\u001b[39m-\u001b[39mcenter_p[\u001b[39m1\u001b[39m]:col\u001b[39m+\u001b[39mcenter_p[\u001b[39m1\u001b[39m]\u001b[39m+\u001b[39m\u001b[39m1\u001b[39m, :]\u001b[39m-\u001b[39mpatch\n\u001b[0;32m---> <a href='vscode-notebook-cell://wsl%2Bubuntu-22.04/root/codes/Ex2/Experiment2.ipynb#X11sdnNjb2RlLXJlbW90ZQ%3D%3D?line=41'>42</a>\u001b[0m         temp2 \u001b[39m=\u001b[39m np\u001b[39m.\u001b[39msum(temp\u001b[39m*\u001b[39;49m\u001b[39m*\u001b[39;49m\u001b[39m2\u001b[39;49m)\n\u001b[1;32m     <a href='vscode-notebook-cell://wsl%2Bubuntu-22.04/root/codes/Ex2/Experiment2.ipynb#X11sdnNjb2RlLXJlbW90ZQ%3D%3D?line=42'>43</a>\u001b[0m         ssd[row, col] \u001b[39m=\u001b[39m np\u001b[39m.\u001b[39mexp(\u001b[39m-\u001b[39m\u001b[39mself\u001b[39m\u001b[39m.\u001b[39malpha\u001b[39m*\u001b[39mtemp2)\n\u001b[1;32m     <a href='vscode-notebook-cell://wsl%2Bubuntu-22.04/root/codes/Ex2/Experiment2.ipynb#X11sdnNjb2RlLXJlbW90ZQ%3D%3D?line=43'>44</a>\u001b[0m \u001b[39mreturn\u001b[39;00m ssd\n",
      "\u001b[0;31mKeyboardInterrupt\u001b[0m: "
     ]
    }
   ],
   "source": [
    "region_size = np.array([39, 35])\n",
    "patch_size = np.array([7, 7])\n",
    "bin_size = np.array([15, 3])\n",
    "\n",
    "num_imgs = 5\n",
    "self_similarities = {}\n",
    "sim = ClacSelfSimilarities(region_size, patch_size, bin_size)\n",
    "for i in range(num_imgs):\n",
    "    img = cv2.imread('images/{}.jpg'.format(i+1), cv2.IMREAD_COLOR)\n",
    "    img = cv2.resize(img, (ceil(img.shape[1]/3), ceil(img.shape[0]/3)))\n",
    "    self_similarities[i] = sim.cal_self_similarities(img)"
   ]
  },
  {
   "cell_type": "code",
   "execution_count": null,
   "metadata": {},
   "outputs": [],
   "source": [
    "\n",
    "for i in range(num_imgs):\n",
    "    src = cv2.imread('images/{}.jpg'.format(i+1))\n",
    "    src = cv2.resize(src, (ceil(src.shape[1]/3), ceil(src.shape[0]/3)))\n",
    "    sig_score_img = np.zeros((src.shape[0], src.shape[1]))\n",
    "    for row in range(src.shape[0]-1):\n",
    "        for col in range(src.shape[1]-1):\n",
    "            sub1 = self_similarities[i][row, col, :]\n",
    "            max_match = np.zeros(num_imgs-1)\n",
    "            nimag = 0\n",
    "            match_score = {0: [], 1: [], 2: [], 3: [], 4: []}\n",
    "            for n in range(num_imgs):\n",
    "                if n != i:\n",
    "                    temp = -1*(np.sum((self_similarities[n]-sub1)**2, axis=2))\n",
    "                    max_match[nimag] = np.max(temp)\n",
    "                    match_score[nimag] = list(temp.reshape(-1))\n",
    "                    nimag = nimag+1\n",
    "\n",
    "            temp2 = np.array(match_score[0]+match_score[1] +\n",
    "                             match_score[2]+match_score[3]+match_score[4])\n",
    "            avgmatch = np.mean(temp2)\n",
    "            stdmatch = np.std(temp2)\n",
    "            sig_score_img[row, col] = np.sum((max_match-avgmatch)/stdmatch)\n",
    "\n",
    "    src = cv2.imread('images/{}.jpg'.format(i+1))\n",
    "    dst = draw_result(src, sig_score_img/4, region_size, 3)\n",
    "    plt.subplot(2, 3, i+1)\n",
    "    plt.imshow(dst[:, :, ::-1])\n",
    "    cv2.imwrite('output/result{}.jpg'.format(i+1), dst)\n",
    "plt.show()"
   ]
  }
 ],
 "metadata": {
  "kernelspec": {
   "display_name": "Python 3 (ipykernel)",
   "language": "python",
   "name": "python3"
  },
  "language_info": {
   "codemirror_mode": {
    "name": "ipython",
    "version": 3
   },
   "file_extension": ".py",
   "mimetype": "text/x-python",
   "name": "python",
   "nbconvert_exporter": "python",
   "pygments_lexer": "ipython3",
   "version": "3.9.18"
  }
 },
 "nbformat": 4,
 "nbformat_minor": 2
}
